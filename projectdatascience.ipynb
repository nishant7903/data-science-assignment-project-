{
 "cells": [
  {
   "cell_type": "markdown",
   "id": "9d1187a0-9f68-4bdf-b2ed-528a669182e1",
   "metadata": {},
   "source": [
    "# Exploratory Data Analysis and Visualization Using Pandas and Seaborn in Python\n"
   ]
  },
  {
   "cell_type": "markdown",
   "id": "65c5f949-e038-4a1e-85e5-38e623bdeff0",
   "metadata": {},
   "source": [
    "## Introduction\r\n",
    "This notebook serves as a final project in data science, where we explore various aspects such as languages, libraries, tools, arithmetic expressions, and basic data transformations in Python.\r\n"
   ]
  },
  {
   "cell_type": "markdown",
   "id": "47631584-5933-4b6c-9249-0def379f677c",
   "metadata": {},
   "source": [
    "## Data Science Languages\r\n",
    "Some popular languages used in data science include:\r\n",
    "1. Python\r\n",
    "2. R\r\n",
    "3. SQL\r\n",
    "4. Julia\r\n",
    "5. Scala\r\n",
    "6. Java\r\n"
   ]
  },
  {
   "cell_type": "markdown",
   "id": "353e664c-9e12-4a44-9ca3-6027ec6f96d1",
   "metadata": {},
   "source": [
    "## Data Science Libraries\n",
    "Popular libraries for data science include:\n",
    "1. Pandas\n",
    "2. NumPy\n",
    "3. Matplotlib\n",
    "4. Seaborn\n",
    "5. Scikit-learn\n",
    "6. TensorFlow\n"
   ]
  },
  {
   "cell_type": "markdown",
   "id": "50891c70-8dda-491b-93e6-175284afeae7",
   "metadata": {},
   "source": [
    "## Data Science Tools\r\n",
    "| Tool           | Description                          |\r\n",
    "|----------------|--------------------------------------|\r\n",
    "| Jupyter Notebook | Interactive computing environment |\r\n",
    "| RStudio       | IDE for R programming language        |\r\n",
    "| TensorFlow    | Open-source machine learning framework|\r\n",
    "| Apache Spark  | Distributed data processing framework |\r\n",
    "| GitHub        | Version control and collaboration     |\r\n"
   ]
  },
  {
   "cell_type": "markdown",
   "id": "d0410a04-626a-4ea1-947a-73f8aab25a3f",
   "metadata": {},
   "source": [
    "## Arithmetic Expressions\n",
    "In this section, we demonstrate basic arithmetic operations, such as addition and multiplication.\n"
   ]
  },
  {
   "cell_type": "code",
   "execution_count": 23,
   "id": "ba0c9d5c-a3ca-4e1f-b68b-c8f42e67fa04",
   "metadata": {},
   "outputs": [
    {
     "data": {
      "text/plain": [
       "23"
      ]
     },
     "execution_count": 23,
     "metadata": {},
     "output_type": "execute_result"
    }
   ],
   "source": [
    "# This code multiplies and adds two numbers\n",
    "a = 5\n",
    "b = 3\n",
    "result = (a * b) + (a + b)\n",
    "result\n"
   ]
  },
  {
   "cell_type": "code",
   "execution_count": 33,
   "id": "f302b181-bb80-4739-b4db-b43560bc9711",
   "metadata": {},
   "outputs": [
    {
     "data": {
      "text/plain": [
       "2.5"
      ]
     },
     "execution_count": 33,
     "metadata": {},
     "output_type": "execute_result"
    }
   ],
   "source": [
    "# This code converts minutes to hours\n",
    "minutes = 150\n",
    "hours = minutes / 60\n",
    "hours\n"
   ]
  },
  {
   "cell_type": "markdown",
   "id": "a9fd616a-992f-452a-bbbb-dea1447d89a6",
   "metadata": {},
   "source": [
    "## Objectives\n",
    "- Explore popular data science languages\n",
    "- List essential libraries used in data science\n",
    "- Demonstrate basic arithmetic operations\n",
    "- Convert time from minutes to hours\n",
    "- Practice using Jupyter Notebook and GitHub for data science projects\n"
   ]
  },
  {
   "cell_type": "markdown",
   "id": "a2d25d85-9176-4b3a-9650-ad09bfdd31c0",
   "metadata": {},
   "source": [
    "## Author\r",
    "Nishant ranjane\r\n"
   ]
  },
  {
   "cell_type": "code",
   "execution_count": null,
   "id": "3977320e-7aff-4720-bf82-6daa638b9dd2",
   "metadata": {},
   "outputs": [],
   "source": []
  },
  {
   "cell_type": "code",
   "execution_count": null,
   "id": "f3a7360c-4a23-41a4-a6f7-22f3af621185",
   "metadata": {},
   "outputs": [],
   "source": []
  },
  {
   "cell_type": "code",
   "execution_count": null,
   "id": "b637b5a2-f44d-474c-8d55-bf80e806e092",
   "metadata": {},
   "outputs": [],
   "source": []
  },
  {
   "cell_type": "code",
   "execution_count": null,
   "id": "9e9948f0-5d72-4768-ba8c-3dca9856ee78",
   "metadata": {},
   "outputs": [],
   "source": []
  },
  {
   "cell_type": "code",
   "execution_count": null,
   "id": "158c4ea7-7d8a-4268-98d2-784d7f819b0c",
   "metadata": {},
   "outputs": [],
   "source": []
  },
  {
   "cell_type": "code",
   "execution_count": null,
   "id": "c6fcf160-a17f-465a-93e2-fa5c447cd0c5",
   "metadata": {},
   "outputs": [],
   "source": []
  },
  {
   "cell_type": "code",
   "execution_count": null,
   "id": "1b50348f-1a34-4243-85bc-887ad11f1dd2",
   "metadata": {},
   "outputs": [],
   "source": []
  },
  {
   "cell_type": "code",
   "execution_count": null,
   "id": "816f6792-9763-4bcd-9a7a-38cf4f0e45fa",
   "metadata": {},
   "outputs": [],
   "source": []
  },
  {
   "cell_type": "code",
   "execution_count": null,
   "id": "e13340c9-428f-420c-8f45-b321ee1a95e2",
   "metadata": {},
   "outputs": [],
   "source": []
  }
 ],
 "metadata": {
  "kernelspec": {
   "display_name": "Python 3 (ipykernel)",
   "language": "python",
   "name": "python3"
  },
  "language_info": {
   "codemirror_mode": {
    "name": "ipython",
    "version": 3
   },
   "file_extension": ".py",
   "mimetype": "text/x-python",
   "name": "python",
   "nbconvert_exporter": "python",
   "pygments_lexer": "ipython3",
   "version": "3.11.7"
  }
 },
 "nbformat": 4,
 "nbformat_minor": 5
}
